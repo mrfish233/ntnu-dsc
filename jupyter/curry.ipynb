{
 "cells": [
  {
   "cell_type": "code",
   "execution_count": 7,
   "id": "67f6f134-6d15-433c-820b-6b1f44a6d1d1",
   "metadata": {},
   "outputs": [],
   "source": [
    "import pandas as pd\n",
    "import numpy as np"
   ]
  },
  {
   "cell_type": "code",
   "execution_count": 15,
   "id": "80d5824e-b76d-4c8a-952c-d9fe62826f1b",
   "metadata": {},
   "outputs": [
    {
     "data": {
      "text/plain": [
       "(0.7620499280986875, 0.9253405018643882)"
      ]
     },
     "execution_count": 15,
     "metadata": {},
     "output_type": "execute_result"
    }
   ],
   "source": [
    "a = [2, 1, 10]\n",
    "r1 = [3, 4, 4]\n",
    "r2 = [6, 1, 9]\n",
    "\n",
    "cos_sim1 = np.dot(a, r1) / (np.sqrt(np.dot(a, a)) * np.sqrt(np.dot(r1, r1)))\n",
    "cos_sim2 = np.dot(a, r2) / (np.sqrt(np.dot(a, a)) * np.sqrt(np.dot(r2, r2)))\n",
    "cos_sim1, cos_sim2"
   ]
  },
  {
   "cell_type": "code",
   "execution_count": null,
   "id": "a422c9a4-7f68-416d-9005-d44445a4af16",
   "metadata": {},
   "outputs": [],
   "source": []
  }
 ],
 "metadata": {
  "kernelspec": {
   "display_name": "Python 3 (ipykernel)",
   "language": "python",
   "name": "python3"
  },
  "language_info": {
   "codemirror_mode": {
    "name": "ipython",
    "version": 3
   },
   "file_extension": ".py",
   "mimetype": "text/x-python",
   "name": "python",
   "nbconvert_exporter": "python",
   "pygments_lexer": "ipython3",
   "version": "3.12.4"
  }
 },
 "nbformat": 4,
 "nbformat_minor": 5
}
